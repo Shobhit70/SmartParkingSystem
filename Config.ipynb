{
 "cells": [
  {
   "cell_type": "code",
   "execution_count": 1,
   "metadata": {},
   "outputs": [],
   "source": [
    "#model file\n",
    "image_width=48\n",
    "image_height=48\n",
    "channels=3\n",
    "\n",
    "num_classes=2\n",
    "zoom_range=0.1\n",
    "width_shift_range=0.1\n",
    "height_shift_range=0.1\n",
    "rotation_range=5\n",
    "rescale=1./255\n",
    "\n",
    "batch_size=32\n",
    "epoch=1\n",
    "\n",
    "model_file=\"car_v16.h5\"\n",
    "train_data_dir=\"train_data/train\"\n",
    "validation_data_dir=\"train_data/test\""
   ]
  },
  {
   "cell_type": "code",
   "execution_count": 2,
   "metadata": {},
   "outputs": [],
   "source": [
    "#identifying_parking_spots\n",
    "img_path=\"test_images/*.jpg\"\n",
    "\n",
    "vertices_scale_x = [0.2,0.8,0.8,1,1,0.2]\n",
    "vertices_scale_y = [0.015,0.015,0.12,0.12,0.975,0.975]\n",
    "\n",
    "upper_white = [255,255,255]\n",
    "lower_white = [120,120,120]\n",
    "upper_yellow = [255,255,255]\n",
    "lower_yellow = [190,190,0]\n",
    "\n",
    "blur_low = 13\n",
    "blur_high = 17\n",
    "low_threshold=50\n",
    "high_threshold=200\n",
    "\n",
    "houghline_threshold=75\n",
    "houghline_minlinelength=10\n",
    "houghline_maxlinegap=4\n",
    "divisor=10\n",
    "rho = 1\n",
    "\n",
    "draw_lines_thickness=2\n",
    "lines_y_threshold=1\n",
    "lines_x_threshold1=10\n",
    "lines_x_threshold2=90\n",
    "threshold_value=4\n",
    "max_image_width=1000\n",
    "\n",
    "clust_dist=7\n",
    "gap=53\n",
    "\n",
    "rect_color=(0,255,0)\n",
    "pickle_file=\"spot_dict.pickle\""
   ]
  },
  {
   "cell_type": "code",
   "execution_count": 3,
   "metadata": {},
   "outputs": [],
   "source": [
    "#run_model_on_new_img\n",
    "slot_color = [0,255,0]\n",
    "font_color = (255,255,255)\n",
    "\n",
    "filename_with_marker='with_marking.jpg'\n",
    "\n",
    "#Buffer dictionary for max 10 lanes\n",
    "#adjust_dict = {1:(0,0,0,0), 2:(0,0,0,0), 3:(0,0,0,0), 4:(0,0,0,0), 5:(0,0,0,0)}\n",
    "adjust_dict = {1:(0,0,0,-15), 2:(0,0,0,30), 3:(0,0,0,-15), 4:(0,0,0,60), 5:(0,0,0,-15)}\n",
    "\n",
    "#no_slot_list = (23,46,69)\n",
    "#reserve_list = (15,16,17,18,19,20,21,22,107)\n",
    "no_slot_list = ()\n",
    "reserve_list = ()"
   ]
  },
  {
   "cell_type": "code",
   "execution_count": 4,
   "metadata": {},
   "outputs": [],
   "source": [
    "json_file=\"data/annotations/annotations\""
   ]
  }
 ],
 "metadata": {
  "kernelspec": {
   "display_name": "Python 3",
   "language": "python",
   "name": "python3"
  },
  "language_info": {
   "codemirror_mode": {
    "name": "ipython",
    "version": 3
   },
   "file_extension": ".py",
   "mimetype": "text/x-python",
   "name": "python",
   "nbconvert_exporter": "python",
   "pygments_lexer": "ipython3",
   "version": "3.7.3"
  }
 },
 "nbformat": 4,
 "nbformat_minor": 2
}
